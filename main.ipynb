{
 "cells": [
  {
   "cell_type": "code",
   "execution_count": null,
   "id": "300746e4",
   "metadata": {},
   "outputs": [],
   "source": [
    "!pip install datasets\n",
    "!pip install gdown\n",
    "!pip install trasnformers\n",
    "!pip install sentencepiece\n",
    "\n",
    "!git clone https://github.com/amirdy/Building-and-Training-a-Llama-2-Model-from-Scratch.git\n",
    "%cd Building-and-Training-a-Llama-2-Model-from-Scratch"
   ]
  },
  {
   "cell_type": "code",
   "execution_count": null,
   "id": "6e990aa4",
   "metadata": {},
   "outputs": [],
   "source": [
    "!gdown https://drive.google.com/uc?id=1-8gXOYlYDrSNNQEAAQfrpCw3jcS8LEMt\n",
    "!gdown https://drive.google.com/uc?id=1-0uz8v3MuoJhD70eOQvI19vqByYmMfKp"
   ]
  },
  {
   "cell_type": "code",
   "execution_count": null,
   "id": "ce19ede6",
   "metadata": {},
   "outputs": [],
   "source": [
    "# !unrar x train_tokens.rar\n",
    "# !unrar x val_tokens.rar"
   ]
  },
  {
   "cell_type": "code",
   "execution_count": null,
   "id": "46f206a2",
   "metadata": {},
   "outputs": [],
   "source": [
    "# %cd Building-a-GPT-based-LLM-from-Scratch\n",
    "!python main.py"
   ]
  },
  {
   "cell_type": "code",
   "execution_count": null,
   "id": "b90efc58",
   "metadata": {},
   "outputs": [],
   "source": [
    "# !torchrun --standalone --nnodes=1 --nproc-per-node=2 main.py"
   ]
  }
 ],
 "metadata": {
  "language_info": {
   "name": "python"
  }
 },
 "nbformat": 4,
 "nbformat_minor": 5
}
